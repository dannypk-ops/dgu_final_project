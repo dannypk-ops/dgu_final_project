{
 "cells": [
  {
   "cell_type": "code",
   "execution_count": 1,
   "metadata": {},
   "outputs": [
    {
     "name": "stdout",
     "output_type": "stream",
     "text": [
      "Jupyter environment detected. Enabling Open3D WebVisualizer.\n",
      "[Open3D INFO] WebRTC GUI backend enabled.\n",
      "[Open3D INFO] WebRTCWindowSystem: HTTP handshake server disabled.\n"
     ]
    }
   ],
   "source": [
    "import open3d as o3d\n",
    "\n",
    "bin_path = \"/home/jk/ros2_test/src/ros2_orb_slam3/colmap_output/iteration0/final/sparse/0/points3D.bin\"\n",
    "\n"
   ]
  },
  {
   "cell_type": "code",
   "execution_count": 4,
   "metadata": {},
   "outputs": [],
   "source": [
    "import struct\n",
    "import numpy as np\n",
    "\n",
    "def read_points3D_bin(bin_path):\n",
    "    points3D = {}\n",
    "    with open(bin_path, \"rb\") as f:\n",
    "        while True:\n",
    "            binary_data = f.read(43 * 8 + 1)\n",
    "            if not binary_data:\n",
    "                break\n",
    "            unpacked = struct.unpack(\"<QdddBBBdddddd\", binary_data)\n",
    "            point_id = unpacked[0]\n",
    "            xyz = np.array(unpacked[1:4])\n",
    "            rgb = np.array(unpacked[4:7], dtype=np.uint8)\n",
    "            # 나머지: error, track 정보는 생략 가능\n",
    "            points3D[point_id] = (xyz, rgb)\n",
    "    return points3D"
   ]
  },
  {
   "cell_type": "code",
   "execution_count": 1,
   "metadata": {},
   "outputs": [
    {
     "name": "stdout",
     "output_type": "stream",
     "text": [
      "Jupyter environment detected. Enabling Open3D WebVisualizer.\n",
      "[Open3D INFO] WebRTC GUI backend enabled.\n",
      "[Open3D INFO] WebRTCWindowSystem: HTTP handshake server disabled.\n"
     ]
    }
   ],
   "source": [
    "import numpy as np\n",
    "import open3d as o3d\n",
    "\n",
    "def read_points3D_txt(txt_path):\n",
    "    points3D = {}\n",
    "    with open(txt_path, \"r\") as f:\n",
    "        for line in f:\n",
    "            if line.startswith(\"#\") or line.strip() == \"\":\n",
    "                continue\n",
    "            elems = line.strip().split()\n",
    "            point_id = int(elems[0])\n",
    "            xyz = np.array([float(elems[1]), float(elems[2]), float(elems[3])])\n",
    "            rgb = np.array([int(elems[4]), int(elems[5]), int(elems[6])], dtype=np.uint8)\n",
    "            points3D[point_id] = (xyz, rgb)\n",
    "    return points3D\n",
    "\n",
    "def draw_point_cloud_with_custom_size(pcd, point_size=1.0):\n",
    "    vis = o3d.visualization.Visualizer()\n",
    "    vis.create_window()\n",
    "    vis.add_geometry(pcd)\n",
    "\n",
    "    # 렌더링 옵션 설정\n",
    "    render_option = vis.get_render_option()\n",
    "    render_option.point_size = point_size  # 포인트 크기 설정 (기본은 1.0)\n",
    "    render_option.background_color = np.array([0, 0, 0])  # 배경색 (선택사항)\n",
    "\n",
    "    vis.run()\n",
    "    vis.destroy_window()\n",
    "\n",
    "def visualize_colmap_points(txt_path):\n",
    "    points3D = read_points3D_txt(txt_path)\n",
    "\n",
    "    xyzs = []\n",
    "    rgbs = []\n",
    "\n",
    "    for xyz, rgb in points3D.values():\n",
    "        xyzs.append(xyz)\n",
    "        rgbs.append(rgb / 255.0)  # Open3D는 [0,1] 범위로 색상 요구\n",
    "\n",
    "    pcd = o3d.geometry.PointCloud()\n",
    "    pcd.points = o3d.utility.Vector3dVector(np.array(xyzs))\n",
    "    pcd.colors = o3d.utility.Vector3dVector(np.array(rgbs))\n",
    "\n",
    "    draw_point_cloud_with_custom_size(pcd, point_size=0.5)\n",
    "\n",
    "# 실행\n",
    "txt_path = \"/home/jk/ros2_test/src/ros2_orb_slam3/colmap_output/iteration0/final/sparse/0/points3D.txt\"\n",
    "visualize_colmap_points(txt_path)\n"
   ]
  }
 ],
 "metadata": {
  "kernelspec": {
   "display_name": "Python 3",
   "language": "python",
   "name": "python3"
  },
  "language_info": {
   "codemirror_mode": {
    "name": "ipython",
    "version": 3
   },
   "file_extension": ".py",
   "mimetype": "text/x-python",
   "name": "python",
   "nbconvert_exporter": "python",
   "pygments_lexer": "ipython3",
   "version": "3.10.12"
  }
 },
 "nbformat": 4,
 "nbformat_minor": 2
}
